{
 "cells": [
  {
   "cell_type": "code",
   "execution_count": 2,
   "metadata": {},
   "outputs": [],
   "source": [
    "import requests\n",
    "import json\n",
    "from config import n_key\n",
    "from domains import domains\n",
    "import os\n",
    "import pandas as pd\n",
    "#run pip install nltk in your terminal with your PythonData environment activated if you have not already installed nltk\n",
    "import nltk \n",
    "#nltk.download('vader_lexicon')\n",
    "#nltk.download('vader_lexicon') <- you will need to run this the first time you run this code \n",
    "from nltk.sentiment.vader import SentimentIntensityAnalyzer\n",
    "SID = SentimentIntensityAnalyzer()"
   ]
  },
  {
   "cell_type": "code",
   "execution_count": 3,
   "metadata": {},
   "outputs": [],
   "source": [
    "# change these variables to your desired search and your initials \n",
    "keyword = 'migrants'\n",
    "initials = 'RSP'"
   ]
  },
  {
   "cell_type": "code",
   "execution_count": null,
   "metadata": {},
   "outputs": [],
   "source": [
    "# n_key is your API key for NewsAPI\n",
    "# keyword is the word you are interested in searching\n",
    "# source_list is the list of US news sources available in NewsAPI\n",
    "# initials is a string of your initials\n",
    "\n",
    "def getNewsAPIData(n_key, keyword, domains, initials):\n",
    "    base_url = ('http://newsapi.org/v2/everything?')\n",
    "    params = {\n",
    "        'language': 'en',\n",
    "        'pageSize': 100,\n",
    "        'sortBy': 'relevance',\n",
    "        'apiKey': n_key,\n",
    "        'q': keyword,    \n",
    "    }\n",
    "    \n",
    "    data_master = []\n",
    "    \n",
    "    for domain in domains:\n",
    "        params['domains'] = domain\n",
    "        response = requests.get(base_url, params)\n",
    "        data = response.json()\n",
    "\n",
    "\n",
    "        articles = data['articles']\n",
    "        \n",
    "        for index in range(0, len(articles)): \n",
    "            article_dict = {\n",
    "                'Keyword': keyword,\n",
    "                'Source': articles[index]['source']['name'],\n",
    "                'Author': articles[index]['author'],\n",
    "                'Title': articles[index]['title'],\n",
    "                'URL': articles[index]['url'],\n",
    "                'Text': articles[index]['content'],\n",
    "                'Published': articles[index]['publishedAt']}\n",
    "            \n",
    "            data_master.append(article_dict)\n",
    "\n",
    "    data_df = pd.DataFrame(data_master)\n",
    "    data_df.to_csv(f'initial{keyword}NewsAPIdata{initials}.csv', index=False)\n",
    "\n",
    "    data_df['compound score'] = data_df['Title'].apply(lambda title: SID.polarity_scores(title)['compound'])\n",
    "    data_df['negative score'] = data_df['Title'].apply(lambda title: SID.polarity_scores(title)['neg'])\n",
    "    data_df['positive score'] = data_df['Title'].apply(lambda title: SID.polarity_scores(title)['pos'])\n",
    "    data_df['neutral score'] = data_df['Title'].apply(lambda title: SID.polarity_scores(title)['neu'])\n",
    "\n",
    "    data_df.to_csv(f'sentiment{keyword}NewsAPIdata{initials}.csv', index=False)"
   ]
  }
 ],
 "metadata": {
  "kernelspec": {
   "display_name": "Python [conda env:PythonData] *",
   "language": "python",
   "name": "conda-env-PythonData-py"
  },
  "language_info": {
   "codemirror_mode": {
    "name": "ipython",
    "version": 3
   },
   "file_extension": ".py",
   "mimetype": "text/x-python",
   "name": "python",
   "nbconvert_exporter": "python",
   "pygments_lexer": "ipython3",
   "version": "3.6.10"
  }
 },
 "nbformat": 4,
 "nbformat_minor": 4
}
