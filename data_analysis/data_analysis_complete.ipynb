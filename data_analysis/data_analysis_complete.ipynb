{
 "cells": [
  {
   "cell_type": "code",
   "execution_count": null,
   "metadata": {},
   "outputs": [],
   "source": [
    "import pandas as pd\n",
    "import matplotlib.pyplot as plt\n",
    "import numpy as np\n",
    "# Increase the quality and resolution of our charts so we can copy/paste or just\n",
    "# directly save from here.\n",
    "# See:\n",
    "# https://ipython.org/ipython-doc/3/api/generated/IPython.display.html\n",
    "from IPython.display import set_matplotlib_formats\n",
    "set_matplotlib_formats('retina', quality=100)\n",
    "\n",
    "# You can also just do this in Colab/Jupyter, some \"magic\":\n",
    "# %config InlineBackend.figure_format='retina'\n",
    "\n",
    "import nltk\n",
    "from nltk.tokenize import word_tokenize, RegexpTokenizer\n",
    "# need to run these commands the very first time you use these packages\n",
    "# nltk.download('stopwords') \n",
    "# nltk.download('punkt')\n",
    "from nltk.corpus import stopwords\n",
    "stop_words = stopwords.words('english')"
   ]
  },
  {
   "cell_type": "code",
   "execution_count": null,
   "metadata": {},
   "outputs": [],
   "source": [
    "df = pd.read_csv('finalnewsdataprocessed.csv')\n",
    "df_final = df[['Source', \n",
    "               'Source Bias', \n",
    "               'Author', \n",
    "               'Title', \n",
    "               'Overall Sentiment',\n",
    "               'compound score', \n",
    "               'negative score', \n",
    "               'positive score', \n",
    "               'neutral score']]\n",
    "df_final.sort_values(by='Source')"
   ]
  },
  {
   "cell_type": "code",
   "execution_count": null,
   "metadata": {},
   "outputs": [],
   "source": [
    "# Total number of headlines in the dataset\n",
    "df['Title'].count()"
   ]
  },
  {
   "cell_type": "code",
   "execution_count": null,
   "metadata": {},
   "outputs": [],
   "source": [
    "# Set style for all graphs\n",
    "plt.style.use('fivethirtyeight')"
   ]
  },
  {
   "cell_type": "code",
   "execution_count": null,
   "metadata": {},
   "outputs": [],
   "source": [
    "# Pie chart of news sources in dataset\n",
    "pie = df['Source'].value_counts().plot.pie(autopct='%.2f%%', fontsize=12, figsize=(12, 12), labeldistance=None, legend=True, shadow=True, title='News Sources in Dataset')\n",
    "pie\n",
    "plt.show()\n"
   ]
  },
  {
   "cell_type": "code",
   "execution_count": null,
   "metadata": {},
   "outputs": [],
   "source": [
    "# Bar graph of news sources in data set\n",
    "df['Source'].value_counts().plot.bar()\n",
    "plt.show()\n"
   ]
  },
  {
   "cell_type": "code",
   "execution_count": null,
   "metadata": {},
   "outputs": [],
   "source": [
    "# Bar graph of composite sentiment scores by source\n",
    "df[['Source', 'negative score', 'positive score', 'neutral score']].groupby('Source').mean().sort_values(by='Source', ascending=False).plot.barh(figsize=(10, 8), title = 'Sentiment Scores by Source')\n",
    "plt.xlabel('Sentiment Score')\n",
    "plt.ylabel('News Source')\n",
    "plt.tight_layout()\n",
    "scores = df.groupby('Source').mean()\n"
   ]
  },
  {
   "cell_type": "code",
   "execution_count": null,
   "metadata": {},
   "outputs": [],
   "source": [
    "# Bar graph of compound sentiment scores by source\n",
    "scores['compound score'].plot.barh(title='Compound Sentiment Scores by News Source')\n",
    "plt.xlabel('Sentiment Score')\n",
    "plt.ylabel('News Source')\n",
    "plt.show()"
   ]
  },
  {
   "cell_type": "code",
   "execution_count": null,
   "metadata": {},
   "outputs": [],
   "source": [
    "# Bar graph of positive sentiment scores by source \n",
    "scores['positive score'].plot.barh(color='y', title='Positive Sentiment Scores by News Source')\n",
    "plt.xlabel('Sentiment Score')\n",
    "plt.ylabel('News Source')\n",
    "plt.show()"
   ]
  },
  {
   "cell_type": "code",
   "execution_count": null,
   "metadata": {},
   "outputs": [],
   "source": [
    "# Bar graph of negative sentiment score by source\n",
    "scores['negative score'].plot.barh(color='r', title='Negative Sentiment Scores by News Source')\n",
    "plt.xlabel('Sentiment Score')\n",
    "plt.ylabel('News Source')\n",
    "plt.show()"
   ]
  },
  {
   "cell_type": "code",
   "execution_count": null,
   "metadata": {},
   "outputs": [],
   "source": [
    "# Bar graph of neutral sentiment score by source\n",
    "scores['neutral score'].plot.barh(color='green', title='Neutral Sentiment Scores by News Source')\n",
    "plt.xlabel('Sentiment Score')\n",
    "plt.ylabel('News Source')\n",
    "plt.show()"
   ]
  },
  {
   "cell_type": "code",
   "execution_count": null,
   "metadata": {},
   "outputs": [],
   "source": [
    "# Average sentiment scores\n",
    "scores"
   ]
  },
  {
   "cell_type": "code",
   "execution_count": null,
   "metadata": {},
   "outputs": [],
   "source": [
    "# Calculate mean compound score \n",
    "mean_compound = df['compound score'].mean()\n",
    "print(f'The average compound sentiment score is {mean_compound:.2f}.')"
   ]
  },
  {
   "cell_type": "code",
   "execution_count": null,
   "metadata": {},
   "outputs": [],
   "source": [
    "# Box plot of average compound score\n",
    "scores['compound score'].plot.box(title='Box Plot of Compound Sentiment Scores')\n",
    "plt.ylabel('Compound Sentiment Score')\n",
    "plt.xlabel('All News Sources')\n",
    "plt.show()"
   ]
  },
  {
   "cell_type": "code",
   "execution_count": null,
   "metadata": {},
   "outputs": [],
   "source": [
    "# Boxplot of compound scores by news sources\n",
    "df.boxplot(column='compound score', by='Source', figsize=(10, 10)) \n",
    "plt.xticks(rotation='vertical')\n",
    "plt.title('Boxplot of Compound Score by News Source')\n",
    "plt.xlabel('News Sources')\n",
    "plt.ylabel('Sentiment Score')\n",
    "plt.show()"
   ]
  },
  {
   "cell_type": "code",
   "execution_count": null,
   "metadata": {},
   "outputs": [],
   "source": [
    "df_sentiments = df.copy()\n",
    "for index, row in df_sentiments.iterrows():\n",
    "    sentiment = row['Overall Sentiment']\n",
    "    if sentiment == -1:\n",
    "        df_sentiments.loc[index, 'Overall Sentiment'] = 'Negative'\n",
    "    if sentiment == 0:\n",
    "        df_sentiments.loc[index, 'Overall Sentiment'] = 'Neutral'\n",
    "    if sentiment == 1:\n",
    "        df_sentiments.loc[index, 'Overall Sentiment'] = 'Positive'\n",
    "        \n",
    "df_sentiments"
   ]
  },
  {
   "cell_type": "code",
   "execution_count": null,
   "metadata": {},
   "outputs": [],
   "source": [
    "# Bar graph of sentiment labels by news source\n",
    "sentiments_grouped = df_sentiments[['Source', 'Overall Sentiment', 'Title']].groupby(['Source', 'Overall Sentiment']).count()\n",
    "sentiments = sentiments_grouped.reset_index()\n",
    "sentiments"
   ]
  },
  {
   "cell_type": "code",
   "execution_count": null,
   "metadata": {},
   "outputs": [],
   "source": [
    "# Create new dataframe of number of headlines with each overall sentiment by source \n",
    "sentiment_new = pd.pivot_table(sentiments, index='Source', columns='Overall Sentiment', values ='Title')\n",
    "sentiment_new"
   ]
  },
  {
   "cell_type": "code",
   "execution_count": null,
   "metadata": {},
   "outputs": [],
   "source": [
    "# Bar graph of number of sentiment score types by source\n",
    "sentiment_new.plot.barh(figsize=(10, 8), title = 'Overall Sentiments of Headlines by Source')\n",
    "plt.xlabel('Sentiment Category')\n",
    "plt.ylabel('News Source')\n",
    "plt.tight_layout()"
   ]
  },
  {
   "cell_type": "code",
   "execution_count": null,
   "metadata": {},
   "outputs": [],
   "source": [
    "def process_corpus(titles):\n",
    "    tokens = []\n",
    "    for title in titles:\n",
    "        tokenizer = RegexpTokenizer(r'\\w+')\n",
    "        toks = tokenizer.tokenize(title)\n",
    "        toks = [t.lower() for t in toks if t.lower() not in stop_words]\n",
    "        tokens.extend(toks)\n",
    "    return tokens"
   ]
  },
  {
   "cell_type": "code",
   "execution_count": null,
   "metadata": {},
   "outputs": [],
   "source": [
    "# Determine most frequent words in all headlines\n",
    "headlines = list(df['Title'])\n",
    "headlines_tokens = process_corpus(headlines)\n",
    "headlines_freq = nltk.FreqDist(headlines_tokens)\n",
    "top_terms_all = headlines_freq.most_common(20)\n",
    "top_terms_all"
   ]
  },
  {
   "cell_type": "code",
   "execution_count": null,
   "metadata": {},
   "outputs": [],
   "source": [
    "# Graph top 5 terms in all headlines\n",
    "terms = []\n",
    "counts = []\n",
    "for value in range (0,5):\n",
    "    term = top_terms_all[value][0]\n",
    "    count = top_terms_all[value][1]\n",
    "    terms.append(term)\n",
    "    counts.append(count)\n",
    "    \n",
    "plt.bar(terms, counts)\n",
    "plt.xlabel('Term')\n",
    "plt.ylabel('Number of Occurrences')\n",
    "plt.title('Most Frequent Words in Headlines')\n",
    "plt.show()\n",
    "\n",
    "\n",
    "    "
   ]
  },
  {
   "cell_type": "code",
   "execution_count": null,
   "metadata": {},
   "outputs": [],
   "source": [
    "# Determine most frequent words in positive headlines\n",
    "pos_headlines = list(df.loc[df['Overall Sentiment']==1]['Title'])\n",
    "pos_headlines_tokens = process_corpus(pos_headlines)\n",
    "pos_headlines_freq = nltk.FreqDist(pos_headlines_tokens)\n",
    "top_terms_pos = pos_headlines_freq.most_common(20)\n",
    "top_terms_pos"
   ]
  },
  {
   "cell_type": "code",
   "execution_count": null,
   "metadata": {},
   "outputs": [],
   "source": [
    "# Graph top 5 terms in positive headlines\n",
    "terms_pos = []\n",
    "counts_pos = []\n",
    "for value in range (0,5):\n",
    "    term = top_terms_pos[value][0]\n",
    "    count = top_terms_pos[value][1]\n",
    "    terms_pos.append(term)\n",
    "    counts_pos.append(count)\n",
    "    \n",
    "plt.bar(terms_pos, counts_pos, color='y')\n",
    "plt.xlabel('Term')\n",
    "plt.ylabel('Number of Occurrences')\n",
    "plt.title('Most Frequent Words in Positive Headlines')\n",
    "plt.show()"
   ]
  },
  {
   "cell_type": "code",
   "execution_count": null,
   "metadata": {},
   "outputs": [],
   "source": [
    "# Determine most frequent words in negative headlines\n",
    "neg_headlines = list(df.loc[df['Overall Sentiment']==-1]['Title'])\n",
    "neg_headlines_tokens = process_corpus(neg_headlines)\n",
    "neg_headlines_freq = nltk.FreqDist(neg_headlines_tokens)\n",
    "top_terms_neg = neg_headlines_freq.most_common(20)\n",
    "top_terms_neg"
   ]
  },
  {
   "cell_type": "code",
   "execution_count": null,
   "metadata": {},
   "outputs": [],
   "source": [
    "# Graph top 5 terms in negative headlines\n",
    "terms_neg = []\n",
    "counts_neg = []\n",
    "for value in range (0,5):\n",
    "    term = top_terms_neg[value][0]\n",
    "    count = top_terms_neg[value][1]\n",
    "    terms_neg.append(term)\n",
    "    counts_neg.append(count)\n",
    "    \n",
    "plt.bar(terms_neg, counts_neg, color='r')\n",
    "plt.xlabel('Term')\n",
    "plt.ylabel('Number of Occurrences')\n",
    "plt.title('Most Frequent Words in Negative Headlines')\n",
    "plt.show()"
   ]
  },
  {
   "cell_type": "code",
   "execution_count": null,
   "metadata": {},
   "outputs": [],
   "source": []
  }
 ],
 "metadata": {
  "kernelspec": {
   "display_name": "Python 3",
   "language": "python",
   "name": "python3"
  },
  "language_info": {
   "codemirror_mode": {
    "name": "ipython",
    "version": 3
   },
   "file_extension": ".py",
   "mimetype": "text/x-python",
   "name": "python",
   "nbconvert_exporter": "python",
   "pygments_lexer": "ipython3",
   "version": "3.8.3"
  }
 },
 "nbformat": 4,
 "nbformat_minor": 4
}
