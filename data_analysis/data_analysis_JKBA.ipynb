{
 "cells": [
  {
   "cell_type": "code",
   "execution_count": 41,
   "metadata": {},
   "outputs": [],
   "source": [
    "import pandas as pd"
   ]
  },
  {
   "cell_type": "code",
   "execution_count": 57,
   "metadata": {},
   "outputs": [
    {
     "data": {
      "text/html": [
       "<div>\n",
       "<style scoped>\n",
       "    .dataframe tbody tr th:only-of-type {\n",
       "        vertical-align: middle;\n",
       "    }\n",
       "\n",
       "    .dataframe tbody tr th {\n",
       "        vertical-align: top;\n",
       "    }\n",
       "\n",
       "    .dataframe thead th {\n",
       "        text-align: right;\n",
       "    }\n",
       "</style>\n",
       "<table border=\"1\" class=\"dataframe\">\n",
       "  <thead>\n",
       "    <tr style=\"text-align: right;\">\n",
       "      <th></th>\n",
       "      <th>Keyword</th>\n",
       "      <th>Source</th>\n",
       "      <th>Author</th>\n",
       "      <th>Title</th>\n",
       "      <th>URL</th>\n",
       "      <th>Text</th>\n",
       "      <th>Published</th>\n",
       "      <th>compound score</th>\n",
       "      <th>negative score</th>\n",
       "      <th>positive score</th>\n",
       "      <th>neutral score</th>\n",
       "    </tr>\n",
       "  </thead>\n",
       "  <tbody>\n",
       "    <tr>\n",
       "      <th>0</th>\n",
       "      <td>immigration</td>\n",
       "      <td>The Washington Post</td>\n",
       "      <td>Nick Miroff</td>\n",
       "      <td>Hospital where activists say ICE detainees wer...</td>\n",
       "      <td>https://www.washingtonpost.com/immigration/ice...</td>\n",
       "      <td>According to a complaint filed last week by im...</td>\n",
       "      <td>2020-09-22T20:10:00Z</td>\n",
       "      <td>0.0000</td>\n",
       "      <td>0.000</td>\n",
       "      <td>0.000</td>\n",
       "      <td>1.000</td>\n",
       "    </tr>\n",
       "    <tr>\n",
       "      <th>1</th>\n",
       "      <td>immigration</td>\n",
       "      <td>The Washington Post</td>\n",
       "      <td>Nick Miroff, Devlin Barrett</td>\n",
       "      <td>ICE preparing targeted arrests in ‘sanctuary c...</td>\n",
       "      <td>https://www.washingtonpost.com/immigration/tru...</td>\n",
       "      <td>Chad Wolf, acting secretary of the Department ...</td>\n",
       "      <td>2020-09-29T22:37:00Z</td>\n",
       "      <td>-0.4404</td>\n",
       "      <td>0.182</td>\n",
       "      <td>0.000</td>\n",
       "      <td>0.818</td>\n",
       "    </tr>\n",
       "    <tr>\n",
       "      <th>2</th>\n",
       "      <td>immigration</td>\n",
       "      <td>The Washington Post</td>\n",
       "      <td>Nick Miroff</td>\n",
       "      <td>Trump cuts refugee cap to lowest level ever, d...</td>\n",
       "      <td>https://www.washingtonpost.com/immigration/tru...</td>\n",
       "      <td>The 15,000 figure, the lowest since the 1980 R...</td>\n",
       "      <td>2020-10-01T18:07:00Z</td>\n",
       "      <td>-0.8779</td>\n",
       "      <td>0.410</td>\n",
       "      <td>0.000</td>\n",
       "      <td>0.590</td>\n",
       "    </tr>\n",
       "    <tr>\n",
       "      <th>3</th>\n",
       "      <td>immigration</td>\n",
       "      <td>The Washington Post</td>\n",
       "      <td>Devlin Barrett, The Washington Post</td>\n",
       "      <td>Seattle, Portland...</td>\n",
       "      <td>http://www.washingtonpost.com/national-securit...</td>\n",
       "      <td>WASHINGTON - The Justice Department labeled th...</td>\n",
       "      <td>2020-09-21T13:34:38Z</td>\n",
       "      <td>0.0000</td>\n",
       "      <td>0.000</td>\n",
       "      <td>0.000</td>\n",
       "      <td>1.000</td>\n",
       "    </tr>\n",
       "    <tr>\n",
       "      <th>4</th>\n",
       "      <td>immigration</td>\n",
       "      <td>The Washington Post</td>\n",
       "      <td>Lizette Alvarez</td>\n",
       "      <td>Biden abandoned Florida. Trump could clinch it...</td>\n",
       "      <td>https://www.washingtonpost.com/opinions/2020/0...</td>\n",
       "      <td>Conventional wisdom holds that President Trump...</td>\n",
       "      <td>2020-09-25T17:33:00Z</td>\n",
       "      <td>0.1531</td>\n",
       "      <td>0.153</td>\n",
       "      <td>0.184</td>\n",
       "      <td>0.663</td>\n",
       "    </tr>\n",
       "  </tbody>\n",
       "</table>\n",
       "</div>"
      ],
      "text/plain": [
       "       Keyword               Source                               Author  \\\n",
       "0  immigration  The Washington Post                          Nick Miroff   \n",
       "1  immigration  The Washington Post          Nick Miroff, Devlin Barrett   \n",
       "2  immigration  The Washington Post                          Nick Miroff   \n",
       "3  immigration  The Washington Post  Devlin Barrett, The Washington Post   \n",
       "4  immigration  The Washington Post                      Lizette Alvarez   \n",
       "\n",
       "                                               Title  \\\n",
       "0  Hospital where activists say ICE detainees wer...   \n",
       "1  ICE preparing targeted arrests in ‘sanctuary c...   \n",
       "2  Trump cuts refugee cap to lowest level ever, d...   \n",
       "3                               Seattle, Portland...   \n",
       "4  Biden abandoned Florida. Trump could clinch it...   \n",
       "\n",
       "                                                 URL  \\\n",
       "0  https://www.washingtonpost.com/immigration/ice...   \n",
       "1  https://www.washingtonpost.com/immigration/tru...   \n",
       "2  https://www.washingtonpost.com/immigration/tru...   \n",
       "3  http://www.washingtonpost.com/national-securit...   \n",
       "4  https://www.washingtonpost.com/opinions/2020/0...   \n",
       "\n",
       "                                                Text             Published  \\\n",
       "0  According to a complaint filed last week by im...  2020-09-22T20:10:00Z   \n",
       "1  Chad Wolf, acting secretary of the Department ...  2020-09-29T22:37:00Z   \n",
       "2  The 15,000 figure, the lowest since the 1980 R...  2020-10-01T18:07:00Z   \n",
       "3  WASHINGTON - The Justice Department labeled th...  2020-09-21T13:34:38Z   \n",
       "4  Conventional wisdom holds that President Trump...  2020-09-25T17:33:00Z   \n",
       "\n",
       "   compound score  negative score  positive score  neutral score  \n",
       "0          0.0000           0.000           0.000          1.000  \n",
       "1         -0.4404           0.182           0.000          0.818  \n",
       "2         -0.8779           0.410           0.000          0.590  \n",
       "3          0.0000           0.000           0.000          1.000  \n",
       "4          0.1531           0.153           0.184          0.663  "
      ]
     },
     "execution_count": 57,
     "metadata": {},
     "output_type": "execute_result"
    }
   ],
   "source": [
    "df = pd.read_csv('../data_cleaning/final_cleaned_dataset.csv')\n",
    "df.head()"
   ]
  },
  {
   "cell_type": "code",
   "execution_count": 58,
   "metadata": {},
   "outputs": [
    {
     "data": {
      "text/plain": [
       "array(['The Washington Post', 'Politico', 'USA Today', 'NBC News',\n",
       "       'Fox News', 'CBS News', 'Breitbart News', 'Al Jazeera English',\n",
       "       'CNN'], dtype=object)"
      ]
     },
     "execution_count": 58,
     "metadata": {},
     "output_type": "execute_result"
    }
   ],
   "source": [
    "#Removing the sources with the least amount of data\n",
    "df1 = df[(df.Source != 'Buzzfeed') & (df.Source != 'MSNBC') & (df.Source != 'The Wall Street Journal')]\n",
    "#df1.count()\n",
    "df1['Source'].unique()\n"
   ]
  },
  {
   "cell_type": "code",
   "execution_count": 59,
   "metadata": {},
   "outputs": [],
   "source": [
    "df1.to_csv('../data_cleaning/cleaned_sources.csv', index=False)"
   ]
  },
  {
   "cell_type": "code",
   "execution_count": null,
   "metadata": {},
   "outputs": [],
   "source": []
  }
 ],
 "metadata": {
  "kernelspec": {
   "display_name": "Python [conda env:PythonData] *",
   "language": "python",
   "name": "conda-env-PythonData-py"
  },
  "language_info": {
   "codemirror_mode": {
    "name": "ipython",
    "version": 3
   },
   "file_extension": ".py",
   "mimetype": "text/x-python",
   "name": "python",
   "nbconvert_exporter": "python",
   "pygments_lexer": "ipython3",
   "version": "3.6.10"
  }
 },
 "nbformat": 4,
 "nbformat_minor": 4
}
